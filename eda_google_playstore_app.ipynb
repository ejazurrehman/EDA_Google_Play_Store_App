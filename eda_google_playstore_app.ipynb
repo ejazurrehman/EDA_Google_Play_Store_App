{
 "cells": [
  {
   "cell_type": "markdown",
   "id": "9016b392",
   "metadata": {},
   "source": [
    "## EDA Google Playstore App\n",
    "\n",
    "Prepared By: Ejaz-ur-Rehman\\\n",
    "Date: 26-07-2025\\\n",
    "Email ID: ijazfinance@gmail.com"
   ]
  },
  {
   "cell_type": "markdown",
   "id": "dcb9b67e",
   "metadata": {},
   "source": [
    "## About Dataset\n",
    "\n",
    "### Instructions for citation:\n",
    "If you use this dataset anywhere in your work, kindly cite as the below:\n",
    "L. Gupta, \"Google Play Store Apps,\" Feb 2019. [Online]. Available: https://www.kaggle.com/lava18/google-play-store-apps\n",
    "\n",
    "### Context\n",
    "While many public datasets (on Kaggle and the like) provide Apple App Store data, there are not many counterpart datasets available for Google Play Store apps anywhere on the web. On digging deeper, I found out that iTunes App Store page deploys a nicely indexed appendix-like structure to allow for simple and easy web scraping. On the other hand, Google Play Store uses sophisticated modern-day techniques (like dynamic page load) using JQuery making scraping more challenging.\n",
    "\n",
    "### Content\n",
    "Each app (row) has values for catergory, rating, size, and more.\n",
    "\n",
    "### Acknowledgements\n",
    "This information is scraped from the Google Play Store. This app information would not be available without it.\n",
    "\n",
    "### Inspiration\n",
    "The Play Store apps data has enormous potential to drive app-making businesses to success. Actionable insights can be drawn for developers to work on and capture the Android market!"
   ]
  },
  {
   "cell_type": "markdown",
   "id": "773812fa",
   "metadata": {},
   "source": [
    "## Step-01: Importing Liabraries"
   ]
  },
  {
   "cell_type": "code",
   "execution_count": 1,
   "id": "2028afa8",
   "metadata": {},
   "outputs": [],
   "source": [
    "# Importing Liabraries\n",
    "import pandas as pd\n",
    "import numpy as np\n",
    "import matplotlib.pyplot as plt\n",
    "import seaborn as sns\n",
    "%matplotlib inline"
   ]
  }
 ],
 "metadata": {
  "kernelspec": {
   "display_name": "Python 3",
   "language": "python",
   "name": "python3"
  },
  "language_info": {
   "codemirror_mode": {
    "name": "ipython",
    "version": 3
   },
   "file_extension": ".py",
   "mimetype": "text/x-python",
   "name": "python",
   "nbconvert_exporter": "python",
   "pygments_lexer": "ipython3",
   "version": "3.13.5"
  }
 },
 "nbformat": 4,
 "nbformat_minor": 5
}
